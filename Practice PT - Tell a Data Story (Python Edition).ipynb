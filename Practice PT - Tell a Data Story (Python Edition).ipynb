{
 "cells": [
  {
   "cell_type": "markdown",
   "metadata": {},
   "source": [
    "# Introduction"
   ]
  },
  {
   "cell_type": "markdown",
   "metadata": {},
   "source": [
    "This is my approach to the [\"Tell a Data Story\" performance task](https://github.com/albemlee/PTPracticeData/blob/master/U2L15%20Practice%20PT%20Overview%20and%20Rubric%20-%20Tell%20a%20Data%20Story.pdf) from Code.org's Computer Science Principles Cirriculum. Given that I have additional data science tools and techniques at my disposal, my results are going to differ from yours. However, there should still be similarities in the overall approach to the task."
   ]
  },
  {
   "cell_type": "markdown",
   "metadata": {},
   "source": [
    "## Download the dataset"
   ]
  },
  {
   "cell_type": "markdown",
   "metadata": {},
   "source": [
    "I downloaded the survey responses from [Google Drive](https://docs.google.com/spreadsheets/d/1ayMM9Rcr_wHoS4kcz9LpJ9ejIPvJIS4MUv_tIJNDPU4/edit?usp=sharing) as a csv file and named it [\"data.csv\"](https://github.com/albemlee/PTPracticeData/blob/master/data.csv) The code below loads it into my workspace and saves it into a dataframe called \"data\"."
   ]
  },
  {
   "cell_type": "code",
   "execution_count": 1,
   "metadata": {
    "collapsed": true
   },
   "outputs": [],
   "source": [
    "import warnings\n",
    "warnings.filterwarnings(\"ignore\")\n",
    "\n",
    "import pandas as pd\n",
    "import numpy as np\n",
    "data = pd.read_csv('data.csv')"
   ]
  },
  {
   "cell_type": "markdown",
   "metadata": {},
   "source": [
    "Let's take a look to see what our data looks like."
   ]
  },
  {
   "cell_type": "code",
   "execution_count": 2,
   "metadata": {},
   "outputs": [
    {
     "data": {
      "text/html": [
       "<div>\n",
       "<style>\n",
       "    .dataframe thead tr:only-child th {\n",
       "        text-align: right;\n",
       "    }\n",
       "\n",
       "    .dataframe thead th {\n",
       "        text-align: left;\n",
       "    }\n",
       "\n",
       "    .dataframe tbody tr th {\n",
       "        vertical-align: top;\n",
       "    }\n",
       "</style>\n",
       "<table border=\"1\" class=\"dataframe\">\n",
       "  <thead>\n",
       "    <tr style=\"text-align: right;\">\n",
       "      <th></th>\n",
       "      <th>Timestamp</th>\n",
       "      <th>How many hours did you sleep last night?</th>\n",
       "      <th>How many hours did you work (e.g. do homework, or a job) after you left school?</th>\n",
       "      <th>How many hours did you spend relaxing after you left school?</th>\n",
       "      <th>What did you do to relax last night?</th>\n",
       "      <th>How do you feel today?</th>\n",
       "      <th>Which best describes you (your answer should be the same every day)</th>\n",
       "    </tr>\n",
       "  </thead>\n",
       "  <tbody>\n",
       "    <tr>\n",
       "      <th>0</th>\n",
       "      <td>10/23/2017 8:04:21</td>\n",
       "      <td>6 1/2</td>\n",
       "      <td>3</td>\n",
       "      <td>0</td>\n",
       "      <td>0</td>\n",
       "      <td>Good</td>\n",
       "      <td>Youngest Siblling</td>\n",
       "    </tr>\n",
       "    <tr>\n",
       "      <th>1</th>\n",
       "      <td>10/23/2017 8:04:52</td>\n",
       "      <td>7</td>\n",
       "      <td>1</td>\n",
       "      <td>4</td>\n",
       "      <td>watch tv</td>\n",
       "      <td>Good</td>\n",
       "      <td>Oldest Sibling</td>\n",
       "    </tr>\n",
       "    <tr>\n",
       "      <th>2</th>\n",
       "      <td>10/23/2017 8:05:23</td>\n",
       "      <td>7</td>\n",
       "      <td>6</td>\n",
       "      <td>1</td>\n",
       "      <td>Sleep</td>\n",
       "      <td>Meh</td>\n",
       "      <td>Oldest Sibling</td>\n",
       "    </tr>\n",
       "    <tr>\n",
       "      <th>3</th>\n",
       "      <td>10/23/2017 8:05:30</td>\n",
       "      <td>6</td>\n",
       "      <td>7</td>\n",
       "      <td>0</td>\n",
       "      <td>Took a nap</td>\n",
       "      <td>Meh</td>\n",
       "      <td>Oldest Sibling</td>\n",
       "    </tr>\n",
       "    <tr>\n",
       "      <th>4</th>\n",
       "      <td>10/23/2017 8:05:36</td>\n",
       "      <td>6.5</td>\n",
       "      <td>2</td>\n",
       "      <td>4</td>\n",
       "      <td>Watch Netflix</td>\n",
       "      <td>Good</td>\n",
       "      <td>Youngest Siblling</td>\n",
       "    </tr>\n",
       "  </tbody>\n",
       "</table>\n",
       "</div>"
      ],
      "text/plain": [
       "            Timestamp How many hours did you sleep last night?  \\\n",
       "0  10/23/2017 8:04:21                                    6 1/2   \n",
       "1  10/23/2017 8:04:52                                        7   \n",
       "2  10/23/2017 8:05:23                                        7   \n",
       "3  10/23/2017 8:05:30                                        6   \n",
       "4  10/23/2017 8:05:36                                      6.5   \n",
       "\n",
       "  How many hours did you work (e.g. do homework, or a job) after you left school?  \\\n",
       "0                                                  3                                \n",
       "1                                                  1                                \n",
       "2                                                  6                                \n",
       "3                                                  7                                \n",
       "4                                                  2                                \n",
       "\n",
       "  How many hours did you spend relaxing after you left school?  \\\n",
       "0                                                  0             \n",
       "1                                                  4             \n",
       "2                                                  1             \n",
       "3                                                  0             \n",
       "4                                                  4             \n",
       "\n",
       "  What did you do to relax last night? How do you feel today?  \\\n",
       "0                                    0                   Good   \n",
       "1                             watch tv                   Good   \n",
       "2                                Sleep                    Meh   \n",
       "3                           Took a nap                    Meh   \n",
       "4                        Watch Netflix                   Good   \n",
       "\n",
       "  Which best describes you (your answer should be the same every day)  \n",
       "0                                  Youngest Siblling                   \n",
       "1                                     Oldest Sibling                   \n",
       "2                                     Oldest Sibling                   \n",
       "3                                     Oldest Sibling                   \n",
       "4                                  Youngest Siblling                   "
      ]
     },
     "execution_count": 2,
     "metadata": {},
     "output_type": "execute_result"
    }
   ],
   "source": [
    "data.head()"
   ]
  },
  {
   "cell_type": "markdown",
   "metadata": {},
   "source": [
    "It looks like we have 110 rows and 7 columns."
   ]
  },
  {
   "cell_type": "markdown",
   "metadata": {},
   "source": [
    "## Clean the dataset"
   ]
  },
  {
   "cell_type": "markdown",
   "metadata": {},
   "source": [
    "#### Rename Columns"
   ]
  },
  {
   "cell_type": "markdown",
   "metadata": {},
   "source": [
    "I am not a fan of the column names, so I am first going to rename the columns. I prefer names that are short, and I am going to use a convention call [camelcase](https://en.wikipedia.org/wiki/Camel_case)."
   ]
  },
  {
   "cell_type": "code",
   "execution_count": 3,
   "metadata": {},
   "outputs": [
    {
     "data": {
      "text/html": [
       "<div>\n",
       "<style>\n",
       "    .dataframe thead tr:only-child th {\n",
       "        text-align: right;\n",
       "    }\n",
       "\n",
       "    .dataframe thead th {\n",
       "        text-align: left;\n",
       "    }\n",
       "\n",
       "    .dataframe tbody tr th {\n",
       "        vertical-align: top;\n",
       "    }\n",
       "</style>\n",
       "<table border=\"1\" class=\"dataframe\">\n",
       "  <thead>\n",
       "    <tr style=\"text-align: right;\">\n",
       "      <th></th>\n",
       "      <th>TimeStamp</th>\n",
       "      <th>HoursSleep</th>\n",
       "      <th>HoursWork</th>\n",
       "      <th>HoursRelaxing</th>\n",
       "      <th>RelaxActivity</th>\n",
       "      <th>Feel</th>\n",
       "      <th>PersonalDescription</th>\n",
       "    </tr>\n",
       "  </thead>\n",
       "  <tbody>\n",
       "    <tr>\n",
       "      <th>0</th>\n",
       "      <td>10/23/2017 8:04:21</td>\n",
       "      <td>6 1/2</td>\n",
       "      <td>3</td>\n",
       "      <td>0</td>\n",
       "      <td>0</td>\n",
       "      <td>Good</td>\n",
       "      <td>Youngest Siblling</td>\n",
       "    </tr>\n",
       "    <tr>\n",
       "      <th>1</th>\n",
       "      <td>10/23/2017 8:04:52</td>\n",
       "      <td>7</td>\n",
       "      <td>1</td>\n",
       "      <td>4</td>\n",
       "      <td>watch tv</td>\n",
       "      <td>Good</td>\n",
       "      <td>Oldest Sibling</td>\n",
       "    </tr>\n",
       "    <tr>\n",
       "      <th>2</th>\n",
       "      <td>10/23/2017 8:05:23</td>\n",
       "      <td>7</td>\n",
       "      <td>6</td>\n",
       "      <td>1</td>\n",
       "      <td>Sleep</td>\n",
       "      <td>Meh</td>\n",
       "      <td>Oldest Sibling</td>\n",
       "    </tr>\n",
       "    <tr>\n",
       "      <th>3</th>\n",
       "      <td>10/23/2017 8:05:30</td>\n",
       "      <td>6</td>\n",
       "      <td>7</td>\n",
       "      <td>0</td>\n",
       "      <td>Took a nap</td>\n",
       "      <td>Meh</td>\n",
       "      <td>Oldest Sibling</td>\n",
       "    </tr>\n",
       "    <tr>\n",
       "      <th>4</th>\n",
       "      <td>10/23/2017 8:05:36</td>\n",
       "      <td>6.5</td>\n",
       "      <td>2</td>\n",
       "      <td>4</td>\n",
       "      <td>Watch Netflix</td>\n",
       "      <td>Good</td>\n",
       "      <td>Youngest Siblling</td>\n",
       "    </tr>\n",
       "  </tbody>\n",
       "</table>\n",
       "</div>"
      ],
      "text/plain": [
       "            TimeStamp HoursSleep HoursWork HoursRelaxing  RelaxActivity  Feel  \\\n",
       "0  10/23/2017 8:04:21      6 1/2         3             0              0  Good   \n",
       "1  10/23/2017 8:04:52          7         1             4       watch tv  Good   \n",
       "2  10/23/2017 8:05:23          7         6             1          Sleep   Meh   \n",
       "3  10/23/2017 8:05:30          6         7             0     Took a nap   Meh   \n",
       "4  10/23/2017 8:05:36        6.5         2             4  Watch Netflix  Good   \n",
       "\n",
       "  PersonalDescription  \n",
       "0   Youngest Siblling  \n",
       "1      Oldest Sibling  \n",
       "2      Oldest Sibling  \n",
       "3      Oldest Sibling  \n",
       "4   Youngest Siblling  "
      ]
     },
     "execution_count": 3,
     "metadata": {},
     "output_type": "execute_result"
    }
   ],
   "source": [
    "data.columns = ['TimeStamp', 'HoursSleep', 'HoursWork', 'HoursRelaxing', 'RelaxActivity', 'Feel', 'PersonalDescription']\n",
    "data.head()"
   ]
  },
  {
   "cell_type": "markdown",
   "metadata": {},
   "source": [
    "Now that the columns are renamed, let's see if we can get each column to a standard format"
   ]
  },
  {
   "cell_type": "markdown",
   "metadata": {},
   "source": [
    "#### Reformat Timestamp"
   ]
  },
  {
   "cell_type": "markdown",
   "metadata": {},
   "source": [
    "Let's convert the data type in the \"TimeStamp\" column to [datetime](https://docs.python.org/3/library/datetime.html)."
   ]
  },
  {
   "cell_type": "code",
   "execution_count": 4,
   "metadata": {
    "collapsed": true
   },
   "outputs": [],
   "source": [
    "data['TimeStamp'] = pd.to_datetime(data['TimeStamp'])"
   ]
  },
  {
   "cell_type": "code",
   "execution_count": 5,
   "metadata": {},
   "outputs": [
    {
     "data": {
      "text/plain": [
       "0   2017-10-23 08:04:21\n",
       "1   2017-10-23 08:04:52\n",
       "2   2017-10-23 08:05:23\n",
       "3   2017-10-23 08:05:30\n",
       "4   2017-10-23 08:05:36\n",
       "Name: TimeStamp, dtype: datetime64[ns]"
      ]
     },
     "execution_count": 5,
     "metadata": {},
     "output_type": "execute_result"
    }
   ],
   "source": [
    "data['TimeStamp'].head()"
   ]
  },
  {
   "cell_type": "markdown",
   "metadata": {},
   "source": [
    "#### Reformat HoursSleep"
   ]
  },
  {
   "cell_type": "markdown",
   "metadata": {},
   "source": [
    "I want all the data in this column to be decimal numbers. Let's start by removing \"hours\" from each cell."
   ]
  },
  {
   "cell_type": "code",
   "execution_count": 6,
   "metadata": {
    "collapsed": true
   },
   "outputs": [],
   "source": [
    "HourRep = [' hours', 'hours',' Hours', ' hrs', ' Hrs', ' HRS']\n",
    "def remove_hours(data, column, HourRep):\n",
    "    for hr in HourRep:\n",
    "        data[column] = data[column].str.replace(hr, '')\n",
    "    return(data)"
   ]
  },
  {
   "cell_type": "code",
   "execution_count": 7,
   "metadata": {
    "scrolled": true
   },
   "outputs": [
    {
     "data": {
      "text/plain": [
       "0    6 1/2\n",
       "1        7\n",
       "2        7\n",
       "3        6\n",
       "4      6.5\n",
       "Name: HoursSleep, dtype: object"
      ]
     },
     "execution_count": 7,
     "metadata": {},
     "output_type": "execute_result"
    }
   ],
   "source": [
    "data = remove_hours(data, 'HoursSleep', HourRep)\n",
    "data['HoursSleep'].head()"
   ]
  },
  {
   "cell_type": "markdown",
   "metadata": {},
   "source": [
    "Next, let's convert written out versions of the hours to the number"
   ]
  },
  {
   "cell_type": "code",
   "execution_count": 8,
   "metadata": {
    "collapsed": true
   },
   "outputs": [],
   "source": [
    "str_to_int = {'zero': 0,\n",
    "              'one': 1,\n",
    "              'two': 2,\n",
    "              'three': 3,\n",
    "              'four': 4,\n",
    "              'five': 5,\n",
    "              'six': 6,\n",
    "              'seven': 7,\n",
    "              'eight': 8,\n",
    "              'nine': 9,\n",
    "              'ten': 10,\n",
    "              'Zero': 0,\n",
    "              'One': 1,\n",
    "              'Two':2,\n",
    "              'Three': 3,\n",
    "              'Four': 4,\n",
    "              'Five': 5,\n",
    "              'Six': 6,\n",
    "              'Seven': 7,\n",
    "              'Eight': 8,\n",
    "              'Nine': 9,\n",
    "              'Ten': 10,\n",
    "             }"
   ]
  },
  {
   "cell_type": "code",
   "execution_count": 9,
   "metadata": {
    "collapsed": true
   },
   "outputs": [],
   "source": [
    "def convert_str_to_digit(data, column, str_to_int):\n",
    "    for i, row in data.iterrows():\n",
    "        for number, digit in str_to_int.items():\n",
    "            if number in str(data.loc[i, column]):\n",
    "                data.loc[i, column] = data.loc[i, column].replace(number, str(digit))\n",
    "    return(data)"
   ]
  },
  {
   "cell_type": "code",
   "execution_count": 10,
   "metadata": {
    "scrolled": true
   },
   "outputs": [
    {
     "data": {
      "text/plain": [
       "0    6 1/2\n",
       "1        7\n",
       "2        7\n",
       "3        6\n",
       "4      6.5\n",
       "Name: HoursSleep, dtype: object"
      ]
     },
     "execution_count": 10,
     "metadata": {},
     "output_type": "execute_result"
    }
   ],
   "source": [
    "data = convert_str_to_digit(data, 'HoursSleep', str_to_int)\n",
    "data['HoursSleep'].head()"
   ]
  },
  {
   "cell_type": "markdown",
   "metadata": {},
   "source": [
    "It looks like most of the rows are starting to look standardized, but there are still a few outliers such as \"1/2\" and \":45.\" Let's address those too."
   ]
  },
  {
   "cell_type": "code",
   "execution_count": 11,
   "metadata": {
    "collapsed": true
   },
   "outputs": [],
   "source": [
    "bad_list = {' 1/2':'.5',\n",
    "            ':45':'.75',\n",
    "            'None':'0',\n",
    "           }"
   ]
  },
  {
   "cell_type": "code",
   "execution_count": 12,
   "metadata": {
    "collapsed": true
   },
   "outputs": [],
   "source": [
    "def remove_bad_stuff(data, column, bad_list):\n",
    "    for i, row in data.iterrows():\n",
    "        for bad, good in bad_list.items():\n",
    "            if bad in str(data.loc[i, column]):\n",
    "                data.loc[i, column] = data.loc[i, column].replace(bad, good)\n",
    "    return(data)"
   ]
  },
  {
   "cell_type": "code",
   "execution_count": 13,
   "metadata": {
    "scrolled": true
   },
   "outputs": [
    {
     "data": {
      "text/plain": [
       "0    6.5\n",
       "1      7\n",
       "2      7\n",
       "3      6\n",
       "4    6.5\n",
       "Name: HoursSleep, dtype: object"
      ]
     },
     "execution_count": 13,
     "metadata": {},
     "output_type": "execute_result"
    }
   ],
   "source": [
    "data = remove_bad_stuff(data, 'HoursSleep', bad_list)\n",
    "data['HoursSleep'].head()"
   ]
  },
  {
   "cell_type": "markdown",
   "metadata": {},
   "source": [
    "There are a few columns that don't seem to be numbers (like 'x'). Let's remove those columns from our data,"
   ]
  },
  {
   "cell_type": "code",
   "execution_count": 14,
   "metadata": {
    "collapsed": true
   },
   "outputs": [],
   "source": [
    "def remove_nonnumbers(data, column):\n",
    "    for i, row in data.iterrows():\n",
    "        try:\n",
    "            data.loc[i, column] = pd.to_numeric(data.loc[i, column])\n",
    "        except:\n",
    "            data = data.drop(i)\n",
    "    data[column] = pd.to_numeric(data[column])\n",
    "    return(data)"
   ]
  },
  {
   "cell_type": "code",
   "execution_count": 15,
   "metadata": {
    "scrolled": true
   },
   "outputs": [
    {
     "data": {
      "text/plain": [
       "0    6.5\n",
       "1    7.0\n",
       "2    7.0\n",
       "3    6.0\n",
       "4    6.5\n",
       "Name: HoursSleep, dtype: float64"
      ]
     },
     "execution_count": 15,
     "metadata": {},
     "output_type": "execute_result"
    }
   ],
   "source": [
    "data = remove_nonnumbers(data, 'HoursSleep')\n",
    "data['HoursSleep'].head()"
   ]
  },
  {
   "cell_type": "markdown",
   "metadata": {},
   "source": [
    "Just to summarize, the steps I took to clean the HoursSleep column are:\n",
    "1. remove \"hours\" (i.e. \"6 hours\" -> 6)\n",
    "2. convert string values to numbers (i.e. \"six\" -> 6)\n",
    "3. convert any additional outlier formats to numbers (i.e. \"6 1/2\" -> 6.5)\n",
    "4. remove columns that are not numbers (i.e. \"x\" is removed)"
   ]
  },
  {
   "cell_type": "markdown",
   "metadata": {},
   "source": [
    "#### Reformat HoursWork"
   ]
  },
  {
   "cell_type": "markdown",
   "metadata": {},
   "source": [
    "It looks like HoursWork should be in the same format as HoursSleep. Let's apply the same heuristics we used for HoursSleep to HoursWork."
   ]
  },
  {
   "cell_type": "code",
   "execution_count": 16,
   "metadata": {
    "collapsed": true
   },
   "outputs": [],
   "source": [
    "def clean_hours_columns(data, column, HourRep, str_to_int, bad_list):\n",
    "    data = remove_hours(data, column, HourRep)\n",
    "    data = convert_str_to_digit(data, column, str_to_int)\n",
    "    data = remove_bad_stuff(data, column, bad_list)\n",
    "    data = remove_nonnumbers(data, column)\n",
    "    return(data)"
   ]
  },
  {
   "cell_type": "code",
   "execution_count": 17,
   "metadata": {
    "scrolled": true
   },
   "outputs": [
    {
     "data": {
      "text/plain": [
       "0    3\n",
       "1    1\n",
       "2    6\n",
       "3    7\n",
       "4    2\n",
       "Name: HoursWork, dtype: int64"
      ]
     },
     "execution_count": 17,
     "metadata": {},
     "output_type": "execute_result"
    }
   ],
   "source": [
    "data = clean_hours_columns(data, 'HoursWork', HourRep, str_to_int, bad_list)\n",
    "data['HoursWork'].head()"
   ]
  },
  {
   "cell_type": "markdown",
   "metadata": {},
   "source": [
    "#### Reformat HoursRelaxing"
   ]
  },
  {
   "cell_type": "markdown",
   "metadata": {},
   "source": [
    "Seems like the same deal with HoursRelaxing. Let's do the same thing."
   ]
  },
  {
   "cell_type": "code",
   "execution_count": 18,
   "metadata": {
    "scrolled": true
   },
   "outputs": [
    {
     "data": {
      "text/plain": [
       "0    0.0\n",
       "1    4.0\n",
       "2    1.0\n",
       "3    0.0\n",
       "4    4.0\n",
       "Name: HoursRelaxing, dtype: float64"
      ]
     },
     "execution_count": 18,
     "metadata": {},
     "output_type": "execute_result"
    }
   ],
   "source": [
    "data = clean_hours_columns(data, 'HoursRelaxing', HourRep, str_to_int, bad_list)\n",
    "data['HoursRelaxing'].head()"
   ]
  },
  {
   "cell_type": "markdown",
   "metadata": {},
   "source": [
    "#### Reformat RelaxActivity"
   ]
  },
  {
   "cell_type": "markdown",
   "metadata": {},
   "source": [
    "The data is already all in text format. I am going to make the assumption that legitimate responses are at least 3 characters long and delete responses that are less than 4 characters long."
   ]
  },
  {
   "cell_type": "code",
   "execution_count": 19,
   "metadata": {
    "collapsed": true
   },
   "outputs": [],
   "source": [
    "def remove_short_responses(data, column, cutoff):\n",
    "    for i, row in data.iterrows():\n",
    "        if len(str(data.loc[i, column])) <= cutoff:\n",
    "            data.loc[i, column] = \"\"\n",
    "    return(data)"
   ]
  },
  {
   "cell_type": "code",
   "execution_count": 20,
   "metadata": {
    "scrolled": true
   },
   "outputs": [
    {
     "data": {
      "text/plain": [
       "0                 \n",
       "1         watch tv\n",
       "2            Sleep\n",
       "3       Took a nap\n",
       "4    Watch Netflix\n",
       "Name: RelaxActivity, dtype: object"
      ]
     },
     "execution_count": 20,
     "metadata": {},
     "output_type": "execute_result"
    }
   ],
   "source": [
    "data = remove_short_responses(data, 'RelaxActivity', 3)\n",
    "data['RelaxActivity'].head()"
   ]
  },
  {
   "cell_type": "markdown",
   "metadata": {},
   "source": [
    "A few responses are \"nothing.\" I will go ahead and delete those too."
   ]
  },
  {
   "cell_type": "code",
   "execution_count": 21,
   "metadata": {
    "collapsed": true
   },
   "outputs": [],
   "source": [
    "nothing = ['Nothing', 'nothing']\n",
    "def remove_nothing(data, column, nothing):\n",
    "    for i, row in data.iterrows():\n",
    "        data.loc[i, column] = data.loc[i, column].replace('.', ' ')\n",
    "        data.loc[i, column] = data.loc[i, column].replace('&', ' ')\n",
    "        data.loc[i, column] = data.loc[i, column].replace('/', ' ')\n",
    "        for word in nothing:\n",
    "            if word in str(data.loc[i, column]):\n",
    "                data.loc[i, column] = \"\"\n",
    "    return(data)"
   ]
  },
  {
   "cell_type": "code",
   "execution_count": 22,
   "metadata": {
    "scrolled": true
   },
   "outputs": [
    {
     "data": {
      "text/plain": [
       "0                 \n",
       "1         watch tv\n",
       "2            Sleep\n",
       "3       Took a nap\n",
       "4    Watch Netflix\n",
       "Name: RelaxActivity, dtype: object"
      ]
     },
     "execution_count": 22,
     "metadata": {},
     "output_type": "execute_result"
    }
   ],
   "source": [
    "data = remove_nothing(data, 'RelaxActivity', nothing)\n",
    "data['RelaxActivity'].head()"
   ]
  },
  {
   "cell_type": "markdown",
   "metadata": {},
   "source": [
    "Scanning through the responses, it seems like the activities fell into a few big categories:\n",
    "1. Watching videos\n",
    "2. Resting\n",
    "3. Food and Drink\n",
    "4. Socialize\n",
    "5. Other\n",
    "\n",
    "Let's create binary columns (1:yes, 0:no) for each of those categories based on keywords in the responses. This is called [one-hot encoding](https://hackernoon.com/what-is-one-hot-encoding-why-and-when-do-you-have-to-use-it-e3c6186d008f)."
   ]
  },
  {
   "cell_type": "code",
   "execution_count": 23,
   "metadata": {
    "collapsed": true
   },
   "outputs": [],
   "source": [
    "KeywordGroup1 = ['watch', 'Watch', 'tv', 'television', 'netflix', 'Netflix', 'TV', 'Youtube', 'YouTube', 'youtube', 'Binge']\n",
    "KeywordGroup2 = ['sleep', 'Sleep', 'laid', 'laying', 'down', 'Napped', 'Nap', 'nap', 'slept', 'Slept', 'bed']\n",
    "KeywordGroup3 = ['food', 'Food', 'eat', 'Eat', 'Drink', 'drink', 'ate', 'drank']\n",
    "KeywordGroup4 = ['talked', 'Talked', 'facetime', 'Texted', 'texted', 'Facetime', 'phone', 'friends', 'boyfriend', 'girlfriend']\n",
    "\n",
    "def identify_categories(data, column, KeywordGroup1, KeywordGroup2, KeywordGroup3, KeywordGroup4):\n",
    "    data['WatchVideo'] = 0\n",
    "    data['Rest'] = 0\n",
    "    data['EatDrink'] = 0\n",
    "    data['Socialize'] = 0\n",
    "    data['Other'] = 0\n",
    "    data['NoResponse'] = 0\n",
    "    for i, row in data.iterrows():\n",
    "        for keyword in KeywordGroup1:\n",
    "            if keyword in str(data.loc[i, column]):\n",
    "                data.loc[i, 'WatchVideo'] = 1\n",
    "        for keyword in KeywordGroup2:\n",
    "            if keyword in str(data.loc[i, column]):\n",
    "                data.loc[i, 'Rest'] = 1\n",
    "        for keyword in KeywordGroup3:\n",
    "            if keyword in str(data.loc[i, column]):\n",
    "                data.loc[i, 'EatDrink'] = 1\n",
    "        for keyword in KeywordGroup4:\n",
    "            if keyword in str(data.loc[i, column]):\n",
    "                data.loc[i, 'Socialize'] = 1\n",
    "        if data.loc[i, column] == '':\n",
    "            data.loc[i, 'NoResponse'] = 1\n",
    "        if data.loc[i, 'WatchVideo'] + data.loc[i, 'Rest'] + data.loc[i, 'EatDrink'] + data.loc[i, 'Socialize'] + data.loc[i, 'NoResponse'] == 0:\n",
    "            data.loc[i, 'Other'] = 1\n",
    "    return(data)"
   ]
  },
  {
   "cell_type": "code",
   "execution_count": 24,
   "metadata": {},
   "outputs": [
    {
     "name": "stdout",
     "output_type": "stream",
     "text": [
      "    WatchVideo  Rest  EatDrink  Socialize  Other  NoResponse\n",
      "45           0     0         0          0      1           0\n",
      "55           0     0         0          0      1           0\n",
      "56           0     0         0          0      1           0\n",
      "57           0     0         0          0      1           0\n",
      "65           0     0         0          0      1           0\n",
      "80           0     0         0          0      1           0\n"
     ]
    }
   ],
   "source": [
    "data = identify_categories(data, 'RelaxActivity', KeywordGroup1, KeywordGroup2, KeywordGroup3, KeywordGroup4)\n",
    "print(data[['WatchVideo', 'Rest', 'EatDrink', 'Socialize', 'Other', 'NoResponse']][data['Other'] == 1])\n",
    "# print(data['RelaxActivity'][data['Other'] == 1])"
   ]
  },
  {
   "cell_type": "markdown",
   "metadata": {},
   "source": [
    "#### Reformat Feel"
   ]
  },
  {
   "cell_type": "markdown",
   "metadata": {},
   "source": [
    "The responses in this column are already in a standard format. However, it seems that the information in this column is ordered, so I will convert this column from string to integer (2: Great, -2: Terrible)"
   ]
  },
  {
   "cell_type": "code",
   "execution_count": 25,
   "metadata": {
    "collapsed": true
   },
   "outputs": [],
   "source": [
    "ranks = {'Terrible': -2,\n",
    "         'Bad': -1,\n",
    "         'Meh': 0,\n",
    "         'Good': 1,\n",
    "         'Great': 2,\n",
    "        }\n",
    "\n",
    "def create_ranks(data, column, ranks):\n",
    "    data[column].replace(ranks, inplace=True)\n",
    "    return(data)"
   ]
  },
  {
   "cell_type": "code",
   "execution_count": 26,
   "metadata": {
    "scrolled": true
   },
   "outputs": [
    {
     "data": {
      "text/plain": [
       "0    1\n",
       "1    1\n",
       "2    0\n",
       "3    0\n",
       "4    1\n",
       "Name: Feel, dtype: int64"
      ]
     },
     "execution_count": 26,
     "metadata": {},
     "output_type": "execute_result"
    }
   ],
   "source": [
    "data = create_ranks(data, 'Feel', ranks)\n",
    "data['Feel'].head()"
   ]
  },
  {
   "cell_type": "markdown",
   "metadata": {},
   "source": [
    "#### Reformat PersonalDescription"
   ]
  },
  {
   "cell_type": "markdown",
   "metadata": {},
   "source": [
    "Like the responses in the Feel column, the responses in this column are already in a standardized format. Unlike Feel, PersonalDescription isn't rankable, so I won't convert this to integers. I will remove no responses from the dataset."
   ]
  },
  {
   "cell_type": "code",
   "execution_count": 27,
   "metadata": {
    "collapsed": true
   },
   "outputs": [],
   "source": [
    "def remove_nonresponse(data, column):\n",
    "    for i, row in data.iterrows():\n",
    "        if data[column].empty:\n",
    "            data = data.drop(i)\n",
    "    data.dropna(inplace = True)\n",
    "    return(data)"
   ]
  },
  {
   "cell_type": "code",
   "execution_count": 28,
   "metadata": {
    "scrolled": true
   },
   "outputs": [
    {
     "data": {
      "text/plain": [
       "0    Youngest Siblling\n",
       "1       Oldest Sibling\n",
       "2       Oldest Sibling\n",
       "3       Oldest Sibling\n",
       "4    Youngest Siblling\n",
       "Name: PersonalDescription, dtype: object"
      ]
     },
     "execution_count": 28,
     "metadata": {},
     "output_type": "execute_result"
    }
   ],
   "source": [
    "data = remove_nonresponse(data, 'PersonalDescription')\n",
    "data['PersonalDescription'].head()"
   ]
  },
  {
   "cell_type": "markdown",
   "metadata": {},
   "source": [
    "#### Save Clean Data"
   ]
  },
  {
   "cell_type": "markdown",
   "metadata": {},
   "source": [
    "Now that I have completed cleaning the data in each column, I will save it in a csv file called [clean_data.csv](https://github.com/albemlee/PTPracticeData/blob/master/clean_data.csv)."
   ]
  },
  {
   "cell_type": "code",
   "execution_count": 29,
   "metadata": {
    "collapsed": true
   },
   "outputs": [],
   "source": [
    "data.to_csv('clean_data.csv')"
   ]
  },
  {
   "cell_type": "markdown",
   "metadata": {},
   "source": [
    "## Exploring the dataset"
   ]
  },
  {
   "cell_type": "markdown",
   "metadata": {},
   "source": [
    "To explore the dataset, I will use [descriptive models](http://whatis.techtarget.com/definition/descriptive-modeling) on each column. Plots I create here can be found in the [plots folder](https://github.com/albemlee/PTPracticeData/tree/master/Plots)."
   ]
  },
  {
   "cell_type": "markdown",
   "metadata": {},
   "source": [
    "#### Explore TimeStamp"
   ]
  },
  {
   "cell_type": "code",
   "execution_count": 30,
   "metadata": {
    "collapsed": true
   },
   "outputs": [],
   "source": [
    "import matplotlib.pyplot as plt\n",
    "import seaborn as sns"
   ]
  },
  {
   "cell_type": "code",
   "execution_count": 31,
   "metadata": {},
   "outputs": [
    {
     "data": {
      "image/png": "[encoded data removed]",
      "text/plain": [
       "<matplotlib.figure.Figure at 0x113affc88>"
      ]
     },
     "metadata": {},
     "output_type": "display_data"
    }
   ],
   "source": [
    "data['TimeStamp'].groupby(data[\"TimeStamp\"].dt.date).count().plot(kind=\"bar\")\n",
    "plt.title('Students completed the survey in class when instructed to do so')\n",
    "plt.xlabel('Date')\n",
    "plt.ylabel('Number of Responses')\n",
    "plt.savefig('Plots/TimeStamp.png')\n",
    "plt.show()"
   ]
  },
  {
   "cell_type": "markdown",
   "metadata": {},
   "source": [
    "We did not get responses consistently on a daily basis, and the responses were within the duration of about a week. Perhaps a better way to collect the responses would have been to assign the survey as a homework assignment rather than setting aside time to do it in class.\n",
    "\n",
    "10/25 had a only a few responses. My guess is that a few people filled out the survey on 10/25 in an attempt to access the responses."
   ]
  },
  {
   "cell_type": "markdown",
   "metadata": {},
   "source": [
    "#### Explore HoursSleep, HoursWork, and HoursRelaxing"
   ]
  },
  {
   "cell_type": "markdown",
   "metadata": {},
   "source": [
    "HoursSleep, HoursWork, and HoursRelaxing were all decimal numbers. Let's see the distribution of responses for those three columns."
   ]
  },
  {
   "cell_type": "code",
   "execution_count": 32,
   "metadata": {},
   "outputs": [
    {
     "data": {
      "image/png": "[encoded data removed]",
      "text/plain": [
       "<matplotlib.figure.Figure at 0x113aff160>"
      ]
     },
     "metadata": {},
     "output_type": "display_data"
    },
    {
     "data": {
      "text/plain": [
       "count    92.000000\n",
       "mean      5.766304\n",
       "std       1.574960\n",
       "min       1.000000\n",
       "25%       5.000000\n",
       "50%       6.000000\n",
       "75%       7.000000\n",
       "max       8.000000\n",
       "Name: HoursSleep, dtype: float64"
      ]
     },
     "execution_count": 32,
     "metadata": {},
     "output_type": "execute_result"
    }
   ],
   "source": [
    "# HoursSleep\n",
    "sns.distplot(data['HoursSleep'])\n",
    "plt.title('Students get between 5 and 6 hours of sleep on average. A few students get very little sleep which skews the data left.')\n",
    "plt.xlabel('Hours of Sleep')\n",
    "plt.ylabel('Frequency')\n",
    "plt.savefig('Plots/HoursSleep.png')\n",
    "plt.show()\n",
    "data['HoursSleep'].describe()"
   ]
  },
  {
   "cell_type": "markdown",
   "metadata": {},
   "source": [
    "The distribution was skewed left by students who didn't receive  much sleep. Hopefully this is due to students exaggerating on the survey, but if it isn't, it might be interesting to see what other factors correlates with low sleep."
   ]
  },
  {
   "cell_type": "code",
   "execution_count": 33,
   "metadata": {},
   "outputs": [
    {
     "data": {
      "image/png": "[encoded data removed]",
      "text/plain": [
       "<matplotlib.figure.Figure at 0x11400ee80>"
      ]
     },
     "metadata": {},
     "output_type": "display_data"
    },
    {
     "data": {
      "text/plain": [
       "count    92.000000\n",
       "mean      3.956522\n",
       "std       3.924880\n",
       "min       0.000000\n",
       "25%       2.000000\n",
       "50%       3.000000\n",
       "75%       6.000000\n",
       "max      32.000000\n",
       "Name: HoursWork, dtype: float64"
      ]
     },
     "execution_count": 33,
     "metadata": {},
     "output_type": "execute_result"
    }
   ],
   "source": [
    "# HoursWork\n",
    "sns.distplot(data['HoursWork'])\n",
    "plt.title('Students spend about 3 hours working after school on average. A single response for 32 hours skewed the data right.')\n",
    "plt.xlabel('Hours of Work')\n",
    "plt.ylabel('Frequency')\n",
    "plt.savefig('Plots/HoursWork.png')\n",
    "plt.show()\n",
    "data['HoursWork'].describe()"
   ]
  },
  {
   "cell_type": "markdown",
   "metadata": {},
   "source": [
    "Another factor which may have skewed the data right is the interpretation of the question. Some students may havae interpretted the qustion as hours spend working in a week instead of hours spent working in a day. A better way to word this question could be \"How many hours did you work YESTERDAY after you left school?\" Given this ambiguity, I am not going to use the HoursWork column for any predictive models."
   ]
  },
  {
   "cell_type": "code",
   "execution_count": 34,
   "metadata": {},
   "outputs": [
    {
     "data": {
      "image/png": "[encoded data removed]",
      "text/plain": [
       "<matplotlib.figure.Figure at 0x114245b00>"
      ]
     },
     "metadata": {},
     "output_type": "display_data"
    },
    {
     "data": {
      "text/plain": [
       "count    92.000000\n",
       "mean      3.184783\n",
       "std       3.293948\n",
       "min       0.000000\n",
       "25%       1.000000\n",
       "50%       2.250000\n",
       "75%       4.000000\n",
       "max      23.000000\n",
       "Name: HoursRelaxing, dtype: float64"
      ]
     },
     "execution_count": 34,
     "metadata": {},
     "output_type": "execute_result"
    }
   ],
   "source": [
    "#HoursRelaxing\n",
    "sns.distplot(data['HoursRelaxing'])\n",
    "plt.title('Students spend about 3 hours working after school on average. A single response for over 20 hours skewed the data right.')\n",
    "plt.xlabel('Hours of Relaxation')\n",
    "plt.ylabel('Frequency')\n",
    "plt.show()\n",
    "plt.savefig('Plots/HoursRelaxing.png')\n",
    "data['HoursRelaxing'].describe()"
   ]
  },
  {
   "cell_type": "markdown",
   "metadata": {},
   "source": [
    "The data in this column is plagued by the same problem as HoursWork. A better way to word this question could be \"How many hours did you relax YESTERDAY after you left school?\" Given this ambiguity, I am not going to use the HoursWork column for any predictive models."
   ]
  },
  {
   "cell_type": "markdown",
   "metadata": {},
   "source": [
    "#### Explore RelaxActivity"
   ]
  },
  {
   "cell_type": "markdown",
   "metadata": {},
   "source": [
    "I will first do text analysis on the RelaxActivity Column to identify the keywords. Then I will explore the one hot encoded columns."
   ]
  },
  {
   "cell_type": "code",
   "execution_count": 35,
   "metadata": {
    "scrolled": true
   },
   "outputs": [
    {
     "name": "stdout",
     "output_type": "stream",
     "text": [
      "75\n"
     ]
    }
   ],
   "source": [
    "word_list = []\n",
    "for i, row in data.iterrows():\n",
    "    word_list.extend(str(data.loc[i, 'RelaxActivity']).lower().split())\n",
    "vocab_list = list(set(word_list))\n",
    "print(len(vocab_list))"
   ]
  },
  {
   "cell_type": "markdown",
   "metadata": {},
   "source": [
    "Interesting that the vocabulary is 75 words for 92 responses. Let's see which are the most popular words."
   ]
  },
  {
   "cell_type": "code",
   "execution_count": 36,
   "metadata": {
    "collapsed": true,
    "scrolled": true
   },
   "outputs": [],
   "source": [
    "word_count = []\n",
    "for word in vocab_list:\n",
    "    word_count.append(word_list.count(word))"
   ]
  },
  {
   "cell_type": "code",
   "execution_count": 37,
   "metadata": {},
   "outputs": [
    {
     "data": {
      "text/plain": [
       "<matplotlib.figure.Figure at 0x114245c18>"
      ]
     },
     "metadata": {},
     "output_type": "display_data"
    },
    {
     "data": {
      "image/png": "[encoded data removed]",
      "text/plain": [
       "<matplotlib.figure.Figure at 0x1144651d0>"
      ]
     },
     "metadata": {},
     "output_type": "display_data"
    }
   ],
   "source": [
    "vocabulary_summary = pd.DataFrame(\n",
    "    {'vocab_list': vocab_list,\n",
    "     'word_count': word_count\n",
    "    })\n",
    "\n",
    "vocabulary_summary.sort_values('word_count', ascending=False, inplace=True, kind='quicksort')\n",
    "\n",
    "font = {'family' : 'normal',\n",
    "        'weight' : 'normal',\n",
    "        'size'   : 12}\n",
    "\n",
    "plt.rc('font', **font)\n",
    "\n",
    "vocabulary_summary.plot.bar(x = 'vocab_list', y = 'word_count')\n",
    "plt.savefig('Plots/RelaxActivity.png')\n",
    "plt.show()"
   ]
  },
  {
   "cell_type": "markdown",
   "metadata": {},
   "source": [
    "The top few words are all part of the WatchVideo category. I am expecting to see that when I analyze the one hot encoded columns.\n",
    "\n",
    "I generated a [word cloud](https://www.jasondavies.com/wordcloud/) using the word list. You can see it [here](https://github.com/albemlee/PTPracticeData/blob/master/Plots/WordCloud.png)."
   ]
  },
  {
   "cell_type": "code",
   "execution_count": 38,
   "metadata": {},
   "outputs": [
    {
     "data": {
      "image/png": "[encoded data removed]",
      "text/plain": [
       "<matplotlib.figure.Figure at 0x11468b208>"
      ]
     },
     "metadata": {},
     "output_type": "display_data"
    }
   ],
   "source": [
    "#WatchVideo\n",
    "responses = len(data['WatchVideo'])\n",
    "response_positives = sum(data['WatchVideo'])\n",
    "response_negatives = responses - response_positives\n",
    "\n",
    "labels = ['Yes', 'No']\n",
    "responses_data = [response_positives, response_negatives]\n",
    "\n",
    "font = {'family' : 'normal',\n",
    "        'weight' : 'bold',\n",
    "        'size'   : 22}\n",
    "\n",
    "plt.rc('font', **font)\n",
    "\n",
    "plt.pie(responses_data, labels=labels, autopct='%1.1f%%', startangle=90)\n",
    "plt.axis('equal')\n",
    "plt.title('Nearly half of the responses indicated that students watched videos after school')\n",
    "plt.savefig('Plots/WatchVideo.png')\n",
    "plt.show()"
   ]
  },
  {
   "cell_type": "markdown",
   "metadata": {},
   "source": [
    "This is consistent with our observation earlier!"
   ]
  },
  {
   "cell_type": "code",
   "execution_count": 39,
   "metadata": {},
   "outputs": [
    {
     "data": {
      "image/png": "[encoded data removed]",
      "text/plain": [
       "<matplotlib.figure.Figure at 0x1146609b0>"
      ]
     },
     "metadata": {},
     "output_type": "display_data"
    }
   ],
   "source": [
    "#Rest\n",
    "responses = len(data['Rest'])\n",
    "response_positives = sum(data['Rest'])\n",
    "response_negatives = responses - response_positives\n",
    "\n",
    "labels = ['Yes', 'No']\n",
    "responses_data = [response_positives, response_negatives]\n",
    "\n",
    "plt.pie(responses_data, labels=labels, autopct='%1.1f%%', startangle=90)\n",
    "plt.axis('equal')\n",
    "plt.title('About a fifth of the responses indicated that students rested after school')\n",
    "plt.savefig('Plots/Rest.png')\n",
    "plt.show()"
   ]
  },
  {
   "cell_type": "code",
   "execution_count": 40,
   "metadata": {},
   "outputs": [
    {
     "data": {
      "image/png": "[encoded data removed]",
      "text/plain": [
       "<matplotlib.figure.Figure at 0x1145de390>"
      ]
     },
     "metadata": {},
     "output_type": "display_data"
    }
   ],
   "source": [
    "#EatDrink\n",
    "responses = len(data['EatDrink'])\n",
    "response_positives = sum(data['EatDrink'])\n",
    "response_negatives = responses - response_positives\n",
    "\n",
    "labels = ['Yes', 'No']\n",
    "responses_data = [response_positives, response_negatives]\n",
    "\n",
    "plt.pie(responses_data, labels=labels, autopct='%1.1f%%', startangle=90)\n",
    "plt.axis('equal')\n",
    "plt.title('About a tenth of the responses indicated that students ate food or drank beverages after school')\n",
    "plt.savefig('Plots/EatDrink.png')\n",
    "plt.show()"
   ]
  },
  {
   "cell_type": "code",
   "execution_count": 41,
   "metadata": {},
   "outputs": [
    {
     "data": {
      "image/png": "[encoded data removed]",
      "text/plain": [
       "<matplotlib.figure.Figure at 0x11400fcc0>"
      ]
     },
     "metadata": {},
     "output_type": "display_data"
    }
   ],
   "source": [
    "#Socialize\n",
    "responses = len(data['Socialize'])\n",
    "response_positives = sum(data['Socialize'])\n",
    "response_negatives = responses - response_positives\n",
    "\n",
    "labels = ['Yes', 'No']\n",
    "responses_data = [response_positives, response_negatives]\n",
    "\n",
    "plt.pie(responses_data, labels=labels, autopct='%1.1f%%', startangle=90)\n",
    "plt.axis('equal')\n",
    "plt.title('About a tenth of the responses indicated that students ate socialized after school')\n",
    "plt.savefig('Plots/Socialize.png')\n",
    "plt.show()"
   ]
  },
  {
   "cell_type": "code",
   "execution_count": 42,
   "metadata": {},
   "outputs": [
    {
     "data": {
      "image/png": "[encoded data removed]",
      "text/plain": [
       "<matplotlib.figure.Figure at 0x113e29048>"
      ]
     },
     "metadata": {},
     "output_type": "display_data"
    }
   ],
   "source": [
    "#Summary\n",
    "labels = ['Watch Video', 'Rest', 'Eat or Drink', 'Socialize', 'Other', 'No Response']\n",
    "response_data = [sum(data['WatchVideo']),\n",
    "                 sum(data['Rest']),\n",
    "                 sum(data['EatDrink']),\n",
    "                 sum(data['Socialize']),\n",
    "                 sum(data['Other']),\n",
    "                 sum(data['NoResponse'])]\n",
    "\n",
    "plt.bar(range(6), response_data)\n",
    "plt.title('Watching Video seems to be the most popular activity for relaxing')\n",
    "plt.xticks(range(6), labels, rotation='vertical')\n",
    "plt.savefig('Plots/Activities.png')\n",
    "plt.show()"
   ]
  },
  {
   "cell_type": "markdown",
   "metadata": {},
   "source": [
    "#### Explore Feel"
   ]
  },
  {
   "cell_type": "code",
   "execution_count": 43,
   "metadata": {},
   "outputs": [
    {
     "data": {
      "image/png": "[encoded data removed]",
      "text/plain": [
       "<matplotlib.figure.Figure at 0x11464f7b8>"
      ]
     },
     "metadata": {},
     "output_type": "display_data"
    },
    {
     "data": {
      "text/plain": [
       "count    92.000000\n",
       "mean      0.097826\n",
       "std       0.961452\n",
       "min      -2.000000\n",
       "25%       0.000000\n",
       "50%       0.000000\n",
       "75%       1.000000\n",
       "max       2.000000\n",
       "Name: Feel, dtype: float64"
      ]
     },
     "execution_count": 43,
     "metadata": {},
     "output_type": "execute_result"
    }
   ],
   "source": [
    "sns.distplot(data['Feel'])\n",
    "plt.title('Students generally responded that they generally felt Good or Meh')\n",
    "plt.xlabel('Feel')\n",
    "plt.ylabel('Frequency')\n",
    "plt.show()\n",
    "plt.savefig('Plots/Feel.png')\n",
    "data['Feel'].describe()"
   ]
  },
  {
   "cell_type": "markdown",
   "metadata": {},
   "source": [
    "I wonder if any students who responded \"Meh\" did so because they were reluctant to respond negatively."
   ]
  },
  {
   "cell_type": "markdown",
   "metadata": {},
   "source": [
    "#### Explore PersonalDescription"
   ]
  },
  {
   "cell_type": "code",
   "execution_count": 44,
   "metadata": {},
   "outputs": [
    {
     "data": {
      "image/png": "[encoded data removed]",
      "text/plain": [
       "<matplotlib.figure.Figure at 0x1146587f0>"
      ]
     },
     "metadata": {},
     "output_type": "display_data"
    }
   ],
   "source": [
    "labels = ['Youngest Child', 'Middle Child', 'Oldest Child', 'Only Child']\n",
    "response_data = [len(data['PersonalDescription'][data['PersonalDescription'] == 'Youngest Siblling']),\n",
    "                 len(data['PersonalDescription'][data['PersonalDescription'] == 'Middle Sibling']),\n",
    "                 len(data['PersonalDescription'][data['PersonalDescription'] == 'Oldest Sibling']),\n",
    "                 len(data['PersonalDescription'][data['PersonalDescription'] == 'Only Child'])]\n",
    "\n",
    "plt.bar(range(4), response_data)\n",
    "plt.title('PersonalDescription')\n",
    "plt.xticks(range(4), labels, rotation='vertical')\n",
    "plt.savefig('Plots/PersonalDescription.png')\n",
    "plt.show()"
   ]
  },
  {
   "cell_type": "markdown",
   "metadata": {},
   "source": [
    "## Further Analysis"
   ]
  },
  {
   "cell_type": "markdown",
   "metadata": {},
   "source": [
    "Given the small size of the dataset and the short duration it was collected, I do not think we could build a [predictive](https://en.wikipedia.org/wiki/Predictive_modelling) or [prescriptive model](https://en.wikipedia.org/wiki/Prescriptive_analytics) that would generalize well. However, I could test for correlation. I will test for correlation on the following variables:\n",
    "1. HoursSleep and WatchVideo\n",
    "2. HoursSleep and Rest\n",
    "3. HoursSleep and EatDrink\n",
    "4. HoursSleep and Socialize\n",
    "5. HoursSleep and Feel"
   ]
  },
  {
   "cell_type": "markdown",
   "metadata": {},
   "source": [
    "#### Correlation between HoursSleep and WatchVideo"
   ]
  },
  {
   "cell_type": "markdown",
   "metadata": {},
   "source": [
    "HoursSleep is a continuous variable and WatchVideo is a binary variable. [Point-Biserial Correlation](http://www.statisticssolutions.com/point-biserial-correlation/) is a good measure of correlation for this."
   ]
  },
  {
   "cell_type": "code",
   "execution_count": 45,
   "metadata": {},
   "outputs": [
    {
     "name": "stdout",
     "output_type": "stream",
     "text": [
      "r: 0.128951573659\n",
      "p_value: 0.220548427399\n"
     ]
    }
   ],
   "source": [
    "from scipy import stats\n",
    "continuous = data['HoursSleep']\n",
    "boolean = data['WatchVideo']\n",
    "r, p_value = stats.pointbiserialr(boolean, continuous)\n",
    "print('r: %s' % r)\n",
    "print('p_value: %s' % p_value)"
   ]
  },
  {
   "cell_type": "markdown",
   "metadata": {},
   "source": [
    "H-null: There is no correlation between HoursSleep and WatchVideo\n",
    "\n",
    "H-alternative: There is correlation between HoursSleep and WatchVideo\n",
    "\n",
    "Based on a critical value of 0.05, we fail to reject the null hypothesis that there is no correlation between HoursSleep and WatchVideo."
   ]
  },
  {
   "cell_type": "markdown",
   "metadata": {},
   "source": [
    "#### Correlation between HoursSleep and Rest"
   ]
  },
  {
   "cell_type": "code",
   "execution_count": 46,
   "metadata": {},
   "outputs": [
    {
     "name": "stdout",
     "output_type": "stream",
     "text": [
      "r: 0.0332595004987\n",
      "p_value: 0.752959643891\n"
     ]
    }
   ],
   "source": [
    "continuous = data['HoursSleep']\n",
    "boolean = data['Rest']\n",
    "r, p_value = stats.pointbiserialr(boolean, continuous)\n",
    "print('r: %s' % r)\n",
    "print('p_value: %s' % p_value)"
   ]
  },
  {
   "cell_type": "markdown",
   "metadata": {},
   "source": [
    "H-null: There is no correlation between HoursSleep and Rest\n",
    "\n",
    "H-alternative: There is correlation between HoursSleep and Rest\n",
    "\n",
    "Based on a critical value of 0.05, we fail to reject the null hypothesis that there is no correlation between HoursSleep and Rest."
   ]
  },
  {
   "cell_type": "markdown",
   "metadata": {},
   "source": [
    "#### Correlation between HoursSleep and EatDrink"
   ]
  },
  {
   "cell_type": "code",
   "execution_count": 47,
   "metadata": {},
   "outputs": [
    {
     "name": "stdout",
     "output_type": "stream",
     "text": [
      "r: -0.0209463994008\n",
      "p_value: 0.842899896276\n"
     ]
    }
   ],
   "source": [
    "continuous = data['HoursSleep']\n",
    "boolean = data['EatDrink']\n",
    "r, p_value = stats.pointbiserialr(boolean, continuous)\n",
    "print('r: %s' % r)\n",
    "print('p_value: %s' % p_value)"
   ]
  },
  {
   "cell_type": "markdown",
   "metadata": {},
   "source": [
    "H-null: There is no correlation between HoursSleep and Rest\n",
    "\n",
    "H-alternative: There is correlation between HoursSleep and Rest\n",
    "\n",
    "Based on a critical value of 0.05, we fail to reject the null hypothesis that there is no correlation between HoursSleep and Rest."
   ]
  },
  {
   "cell_type": "markdown",
   "metadata": {},
   "source": [
    "#### Correlation between HoursSleep and Socialize"
   ]
  },
  {
   "cell_type": "code",
   "execution_count": 48,
   "metadata": {},
   "outputs": [
    {
     "name": "stdout",
     "output_type": "stream",
     "text": [
      "r: -0.0401534027745\n",
      "p_value: 0.703926580133\n"
     ]
    }
   ],
   "source": [
    "continuous = data['HoursSleep']\n",
    "boolean = data['Socialize']\n",
    "r, p_value = stats.pointbiserialr(boolean, continuous)\n",
    "print('r: %s' % r)\n",
    "print('p_value: %s' % p_value)"
   ]
  },
  {
   "cell_type": "markdown",
   "metadata": {},
   "source": [
    "H-null: There is no correlation between HoursSleep and Socialize\n",
    "\n",
    "H-alternative: There is correlation between HoursSleep and Socialize\n",
    "\n",
    "Based on a critical value of 0.05, we fail to reject the null hypothesis that there is no correlation between HoursSleep and Socialize."
   ]
  },
  {
   "cell_type": "markdown",
   "metadata": {},
   "source": [
    "#### Correlation between HourSleep and Feel"
   ]
  },
  {
   "cell_type": "markdown",
   "metadata": {},
   "source": [
    "HoursSleep is a continuous variable and Feel is a discrete ordinal variable. [Spearman's Rank Correlation](https://en.wikipedia.org/wiki/Spearman%27s_rank_correlation_coefficient) is a good measure of correlation for this."
   ]
  },
  {
   "cell_type": "code",
   "execution_count": 49,
   "metadata": {},
   "outputs": [
    {
     "name": "stdout",
     "output_type": "stream",
     "text": [
      "rho: -0.0401534027745\n",
      "p_value: 0.703926580133\n"
     ]
    }
   ],
   "source": [
    "continuous = data['HoursSleep']\n",
    "ordinal = data['Feel']\n",
    "rho, p_value = stats.pointbiserialr(boolean, continuous)\n",
    "print('rho: %s' % rho)\n",
    "print('p_value: %s' % p_value)"
   ]
  },
  {
   "cell_type": "markdown",
   "metadata": {},
   "source": [
    "H-null: There is no correlation between HoursSleep and Feel\n",
    "    \n",
    "H-alternative: There is correlation between HoursSleep and Feel\n",
    "    \n",
    "Based on a critical value of 0.05, we fail to reject the null hypothesis that there is no correlation between HoursSleep and Feel."
   ]
  }
 ],
 "metadata": {
  "kernelspec": {
   "display_name": "Python 3",
   "language": "python",
   "name": "python3"
  },
  "language_info": {
   "codemirror_mode": {
    "name": "ipython",
    "version": 3
   },
   "file_extension": ".py",
   "mimetype": "text/x-python",
   "name": "python",
   "nbconvert_exporter": "python",
   "pygments_lexer": "ipython3",
   "version": "3.6.1"
  }
 },
 "nbformat": 4,
 "nbformat_minor": 2
}
